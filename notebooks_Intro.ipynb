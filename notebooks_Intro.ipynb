{
  "metadata": {
    "kernelspec": {
      "name": "python",
      "display_name": "Python (Pyodide)",
      "language": "python"
    },
    "language_info": {
      "codemirror_mode": {
        "name": "python",
        "version": 3
      },
      "file_extension": ".py",
      "mimetype": "text/x-python",
      "name": "python",
      "nbconvert_exporter": "python",
      "pygments_lexer": "ipython3",
      "version": "3.8"
    }
  },
  "nbformat_minor": 5,
  "nbformat": 4,
  "cells": [
    {
      "cell_type": "markdown",
      "source": "## My Jupyter Notebook on IBM Watson Studio\n",
      "metadata": {},
      "id": "64c84bef-9a1c-4c17-a46b-19dcd53ef785"
    },
    {
      "cell_type": "markdown",
      "source": "## My Jupyter Notebook on IBM Watson Studio\n",
      "metadata": {},
      "id": "653c547a-6ab0-43e3-80b1-f76673de38bb"
    },
    {
      "cell_type": "markdown",
      "source": "*Estoy interesado en la Data Science porque... me gustaría poder aportar una visión más humana a este campo.*\n*Estoy interesado en la Data Science porque... creo que la sociología tiene mucho que decir aquí.*\n",
      "metadata": {},
      "id": "a35eeb9f-df70-4ab1-a243-2d2025888eb0"
    },
    {
      "cell_type": "code",
      "source": "En la siguiente celda, vamos a imprimir \"Hola, mundo\"",
      "metadata": {},
      "execution_count": null,
      "outputs": [],
      "id": "f0bb9ac5-2c70-4527-ae91-fb6fe93da737"
    },
    {
      "cell_type": "markdown",
      "source": "## Hola que tal##\n*aquí sigo intentando completar la actividad*\n~~yempleando distintos elementos en este markdown~~\nTambién os dejo un hipervínculo: \"https://www.marca.com/\"",
      "metadata": {},
      "id": "8913111e-9953-4294-8838-72851167e9d2"
    }
  ]
}